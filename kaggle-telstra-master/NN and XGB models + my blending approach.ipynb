{
 "cells": [
  {
   "cell_type": "code",
   "execution_count": 98,
   "metadata": {
    "collapsed": false
   },
   "outputs": [],
   "source": [
    "%matplotlib inline\n",
    "import os\n",
    "import pandas as pd\n",
    "import numpy as np\n",
    "import xgboost as xgb\n",
    "from sklearn.cross_validation import StratifiedKFold\n",
    "from sklearn.ensemble import RandomForestClassifier, ExtraTreesClassifier\n",
    "from src.NNmodel import NN_with_CategoryEmbedding as NN\n",
    "from src.telstra_data import TelstraData, multiclass_log_loss\n",
    "from matplotlib import pyplot as plt\n",
    "from scipy.optimize import minimize"
   ]
  },
  {
   "cell_type": "markdown",
   "metadata": {},
   "source": [
    "This notebook will show the neural net and xgboost models I used, as well as the code for combining different models' predictions into a final submission.\n",
    "\n",
    "## Neural network models\n",
    "\n",
    "Here is the configuration of a NN model I used for the final submission. Model code can be found in [`src/NNmodel.py`](https://github.com/gereleth/kaggle-telstra/blob/master/src/NNmodel.py). It was adapted from [@entron's code](https://www.kaggle.com/c/rossmann-store-sales/forums/t/17974/code-sharing-3rd-place-category-embedding-with-deep-neural-network/103140#post103140) for neural networks with category embedding from Rossmann competition. Parameters were tuned with hyperopt. Two more model configurations that achieve similar performance are at the end of the notebook."
   ]
  },
  {
   "cell_type": "code",
   "execution_count": 23,
   "metadata": {
    "collapsed": true
   },
   "outputs": [],
   "source": [
    "featureparams = {\"location_min_count\": 0,\n",
    "                 \"n_common_events\":-1, # use all\n",
    "                 \"n_common_log_features\":320,\n",
    "                 \"n_common_resources\":-1}\n",
    "aggregateparams = {\"loc_agg_prior_weight\":1.0}\n",
    "modelparams = {'dense_1_size': 139,\n",
    "              'dense_2_size': 85,\n",
    "              'dense_3_size':0,\n",
    "              'dropout_1': 0.33518161422102916,\n",
    "              'dropout_2': 0.11022698073986464,\n",
    "              'dropout_3': 0.10,\n",
    "              'events_model_l1': 0.0828912773683751,\n",
    "              'events_model_l2': 0.09058440269409214,\n",
    "              'events_model_size': 36,\n",
    "              'location_embedding_l1': 152.047625356857,\n",
    "              'location_embedding_l2': 0.005514020843033711,\n",
    "              'location_embedding_size': 989,\n",
    "              'log_model_l1': 0.0009942575290641173,\n",
    "              'log_model_l2': 0.0065254811643931775,\n",
    "              'log_model_size': 209,\n",
    "              'resource_model_l1': 0.17048437747361556,\n",
    "              'resource_model_l2': 0.0018463316856817326,\n",
    "              'resource_model_size': 6,\n",
    "              'rest_model_l1': 0.00013833756522212644,\n",
    "              'rest_model_l2': 0.00032397510167688485,\n",
    "              'rest_model_size': 16,\n",
    "              'severity_embedding_l1': 0.0004075447695903401,\n",
    "              'severity_embedding_l2': 0.006030296208917552,\n",
    "              'severity_embedding_size': 2}\n",
    "nb_epoch = 65"
   ]
  },
  {
   "cell_type": "markdown",
   "metadata": {},
   "source": [
    "Load training data"
   ]
  },
  {
   "cell_type": "code",
   "execution_count": 6,
   "metadata": {
    "collapsed": true
   },
   "outputs": [],
   "source": [
    "data = TelstraData(**featureparams)\n",
    "pred_cols = ['predict_{}'.format(i) for i in range(3)]\n",
    "y = data.get_y()"
   ]
  },
  {
   "cell_type": "markdown",
   "metadata": {},
   "source": [
    "Split data into train and validation portions. I'll only use a single holdout set here to save some time."
   ]
  },
  {
   "cell_type": "code",
   "execution_count": 24,
   "metadata": {
    "collapsed": false
   },
   "outputs": [
    {
     "name": "stderr",
     "output_type": "stream",
     "text": [
      "/home/daria/anaconda3/lib/python3.5/site-packages/numpy/lib/nanfunctions.py:993: RuntimeWarning: All-NaN slice encountered\n",
      "  warnings.warn(\"All-NaN slice encountered\", RuntimeWarning)\n"
     ]
    }
   ],
   "source": [
    "kf = StratifiedKFold(y.values, n_folds=8, shuffle=True, random_state = 3)\n",
    "for itrain, itest in kf:\n",
    "    Xtr, ytr, Xte, yte = data.get_train_test_features(itrain, itest, **aggregateparams)\n",
    "    break"
   ]
  },
  {
   "cell_type": "markdown",
   "metadata": {},
   "source": [
    "Fit NN model on train portion and evaluate on validation portion."
   ]
  },
  {
   "cell_type": "code",
   "execution_count": 25,
   "metadata": {
    "collapsed": false
   },
   "outputs": [
    {
     "name": "stdout",
     "output_type": "stream",
     "text": [
      "Validation set mlogloss = 0.46061\n"
     ]
    }
   ],
   "source": [
    "model = NN(modelparams)\n",
    "history = model.fit(Xtr, ytr.astype(int).values, nb_epoch = nb_epoch)\n",
    "nnpred = pd.DataFrame(model.predict_proba(Xte), index = yte.index, columns = pred_cols)\n",
    "loss = multiclass_log_loss(yte, nnpred.values)\n",
    "print('Validation set mlogloss = {:.5f}'.format(loss))"
   ]
  },
  {
   "cell_type": "markdown",
   "metadata": {},
   "source": [
    "Let's fit 9 more NNmodels to the same training data and look at how performance changes if we take an average of predictions from n models."
   ]
  },
  {
   "cell_type": "code",
   "execution_count": 26,
   "metadata": {
    "collapsed": false
   },
   "outputs": [
    {
     "name": "stdout",
     "output_type": "stream",
     "text": [
      "Model 2 validation set mlogloss = 0.47030, ensemble mlogloss = 0.45781\n",
      "Model 3 validation set mlogloss = 0.47501, ensemble mlogloss = 0.45684\n",
      "Model 4 validation set mlogloss = 0.46910, ensemble mlogloss = 0.45567\n",
      "Model 5 validation set mlogloss = 0.47573, ensemble mlogloss = 0.45649\n",
      "Model 6 validation set mlogloss = 0.46792, ensemble mlogloss = 0.45369\n",
      "Model 7 validation set mlogloss = 0.46394, ensemble mlogloss = 0.45248\n",
      "Model 8 validation set mlogloss = 0.46153, ensemble mlogloss = 0.45101\n",
      "Model 9 validation set mlogloss = 0.47278, ensemble mlogloss = 0.45091\n",
      "Model 10 validation set mlogloss = 0.46560, ensemble mlogloss = 0.45055\n"
     ]
    }
   ],
   "source": [
    "nnpreds = [nnpred]\n",
    "for i in range(1,10):\n",
    "    model = NN(modelparams)\n",
    "    history = model.fit(Xtr, ytr.astype(int).values, nb_epoch = nb_epoch)\n",
    "    nnpred = pd.DataFrame(model.predict_proba(Xte), index = yte.index, columns = pred_cols)\n",
    "    loss = multiclass_log_loss(yte, nnpred.values)\n",
    "    nnpreds.append(nnpred)\n",
    "    ensemble_loss = multiclass_log_loss(yte, (sum(nnpreds)/len(nnpreds)).values)\n",
    "    print('Model {} validation set mlogloss = {:.5f}, ensemble mlogloss = {:.5f}'.format(i+1,loss, ensemble_loss))"
   ]
  },
  {
   "cell_type": "code",
   "execution_count": 41,
   "metadata": {
    "collapsed": false
   },
   "outputs": [
    {
     "data": {
      "image/png": "[encoded data removed]",
      "text/plain": [
       "<matplotlib.figure.Figure at 0x7fcae0f53470>"
      ]
     },
     "metadata": {},
     "output_type": "display_data"
    }
   ],
   "source": [
    "nn_single_model_loss = [multiclass_log_loss(yte, p.values) for p in nnpreds]\n",
    "nn_ensemble_loss = []\n",
    "for i in range(len(nnpreds)):\n",
    "    enspred = sum(nnpreds[:i+1])/(i+1)\n",
    "    nn_ensemble_loss.append(multiclass_log_loss(yte, enspred.values))\n",
    "fig, ax = plt.subplots()\n",
    "ax.plot(np.arange(10)+1,nn_single_model_loss,'o-')\n",
    "ax.plot(np.arange(10)+1,nn_ensemble_loss,'o-')\n",
    "ax.hlines(np.mean(nn_single_model_loss),1,10,colors='b',linestyles='dashed')\n",
    "ax.legend(['single model', 'ensemble of n'],loc='upper right')\n",
    "ax.grid()\n",
    "ax.set_xlabel('number of models')\n",
    "ax.set_title('Validation set mlogloss of NN models');"
   ]
  },
  {
   "cell_type": "markdown",
   "metadata": {},
   "source": [
    "In the plot above we can see how ten NN models with an average score of 0.468 (dashed line) give a 0.451 score when combined. I observed the same effect when doing CV on the whole training set - ten models of 0.460 would combine into one of 0.445.\n",
    "\n",
    "## XGB models"
   ]
  },
  {
   "cell_type": "markdown",
   "metadata": {},
   "source": [
    "Here are the configurations of six xgb models that went into my final submission. Let's fit them to our training data and evaluate validation performance."
   ]
  },
  {
   "cell_type": "code",
   "execution_count": 63,
   "metadata": {
    "collapsed": true
   },
   "outputs": [],
   "source": [
    "commonparams = {'eval_metric': 'mlogloss', \n",
    "                'max_delta_step': 1, \n",
    "                'objective': 'multi:softprob', \n",
    "                'silent': 1, \n",
    "                'num_class': 3}"
   ]
  },
  {
   "cell_type": "code",
   "execution_count": 74,
   "metadata": {
    "collapsed": true
   },
   "outputs": [],
   "source": [
    "xgbparams = [{'alpha': 9.070509594630558e-05,\n",
    "  'colsample_bytree': 0.8972541420793363,\n",
    "  'eta': 0.01502700272070676,\n",
    "  'lambda': 83.05282248672957,\n",
    "  'max_depth': 17.0,\n",
    "  'subsample': 0.5349534042968074},\n",
    " {'alpha': 4.683734619799559e-05,\n",
    "  'colsample_bytree': 0.5256667987490449,\n",
    "  'eta': 0.030280365635423655,\n",
    "  'lambda': 133.0395353323493,\n",
    "  'max_depth': 14.0,\n",
    "  'subsample': 0.31360418453779687},\n",
    " {'alpha': 0.0031639363875188785,\n",
    "  'colsample_bytree': 0.5323284110284611,\n",
    "  'eta': 0.0230140072243492,\n",
    "  'lambda': 324.8350511121133,\n",
    "  'max_depth': 14,\n",
    "  'subsample': 0.7801747377178474},\n",
    " {'alpha': 0.0003370723167958087,\n",
    "  'colsample_bytree': 0.34693769396886787,\n",
    "  'eta': 0.026673988051864925,\n",
    "  'lambda': 31.087281466818265,\n",
    "  'max_depth': 29.0,\n",
    "  'subsample': 0.322428925517773},\n",
    " {'alpha': 0.0005973413827509292,\n",
    "  'colsample_bytree': 0.8730396289388369,\n",
    "  'eta': 0.03603156818614976,\n",
    "  'lambda': 16.76076386621095,\n",
    "  'max_depth': 14.0,\n",
    "  'subsample': 0.489741772820973},\n",
    " {'alpha': 0.0007008911010374653,\n",
    "  'colsample_bytree': 0.4240562779860287,\n",
    "  'eta': 0.01654419336572982,\n",
    "  'lambda': 115.36267040519867,\n",
    "  'max_depth': 14.0,\n",
    "  'subsample': 0.6039677499529313}]"
   ]
  },
  {
   "cell_type": "code",
   "execution_count": 65,
   "metadata": {
    "collapsed": true
   },
   "outputs": [],
   "source": [
    "numtrees = [1246, 1757, 2426, 769, 315, 1958]"
   ]
  },
  {
   "cell_type": "code",
   "execution_count": 68,
   "metadata": {
    "collapsed": true
   },
   "outputs": [],
   "source": [
    "featureparams = {'location_min_count': 0,\n",
    " 'n_common_events': 20,\n",
    " 'n_common_log_features': 60,\n",
    " 'n_common_resources': 10,\n",
    " 'n_label_encoded_log_features': 4}\n",
    "aggregateparams = {\"loc_agg_prior_weight\":3.0}"
   ]
  },
  {
   "cell_type": "markdown",
   "metadata": {},
   "source": [
    "I reload the data, because features are different between NNs and tree-based models."
   ]
  },
  {
   "cell_type": "code",
   "execution_count": 69,
   "metadata": {
    "collapsed": true
   },
   "outputs": [],
   "source": [
    "data = TelstraData(**featureparams)\n",
    "Xtr, ytr, Xte, yte = data.get_train_test_features(itrain, itest,**aggregateparams)"
   ]
  },
  {
   "cell_type": "code",
   "execution_count": 77,
   "metadata": {
    "collapsed": false
   },
   "outputs": [],
   "source": [
    "dtrain = xgb.DMatrix(Xtr, ytr)\n",
    "dtest = xgb.DMatrix(Xte)"
   ]
  },
  {
   "cell_type": "code",
   "execution_count": 87,
   "metadata": {
    "collapsed": false
   },
   "outputs": [
    {
     "name": "stdout",
     "output_type": "stream",
     "text": [
      "XGB model 1 validation set mlogloss = 0.43935, ensemble mlogloss = 0.43935\n",
      "XGB model 2 validation set mlogloss = 0.44199, ensemble mlogloss = 0.43967\n",
      "XGB model 3 validation set mlogloss = 0.44466, ensemble mlogloss = 0.44064\n",
      "XGB model 4 validation set mlogloss = 0.43774, ensemble mlogloss = 0.43898\n",
      "XGB model 5 validation set mlogloss = 0.44071, ensemble mlogloss = 0.43844\n",
      "XGB model 6 validation set mlogloss = 0.44141, ensemble mlogloss = 0.43880\n"
     ]
    }
   ],
   "source": [
    "xgbpreds = []\n",
    "xgb_single_model_loss = []\n",
    "xgb_ensemble_loss = []\n",
    "i=0\n",
    "for clfparams, num_rounds in zip(xgbparams, numtrees):\n",
    "    clfparams.update(commonparams)\n",
    "    gbm = xgb.train(clfparams, dtrain, num_rounds)\n",
    "    xgbpred = pd.DataFrame(gbm.predict(dtest).reshape(yte.shape[0],len(pred_cols)),\n",
    "                            index = yte.index, columns = pred_cols)\n",
    "    loss = multiclass_log_loss(yte, xgbpred.values)\n",
    "    xgbpreds.append(xgbpred)\n",
    "    xgb_single_model_loss.append(loss)\n",
    "    ensemble_loss = multiclass_log_loss(yte, (sum(xgbpreds)/len(xgbpreds)).values)\n",
    "    xgb_ensemble_loss.append(ensemble_loss)\n",
    "    i+=1\n",
    "    print('XGB model {} validation set mlogloss = {:.5f}, ensemble mlogloss = {:.5f}'.format(i,loss, ensemble_loss))"
   ]
  },
  {
   "cell_type": "code",
   "execution_count": 88,
   "metadata": {
    "collapsed": false
   },
   "outputs": [
    {
     "data": {
      "image/png": "[encoded data removed]",
      "text/plain": [
       "<matplotlib.figure.Figure at 0x7fcadac97128>"
      ]
     },
     "metadata": {},
     "output_type": "display_data"
    }
   ],
   "source": [
    "fig, ax = plt.subplots()\n",
    "ax.plot(np.arange(6)+1,xgb_single_model_loss,'o-')\n",
    "ax.plot(np.arange(6)+1,xgb_ensemble_loss,'o-')\n",
    "ax.hlines(np.mean(xgb_single_model_loss),1,6,colors='b',linestyles='dashed')\n",
    "ax.legend(['single model', 'ensemble of n'],loc='upper right')\n",
    "ax.grid()\n",
    "ax.set_xlabel('number of models')\n",
    "ax.set_title('Validation set mlogloss of XGB models');"
   ]
  },
  {
   "cell_type": "markdown",
   "metadata": {},
   "source": [
    "XGB models have better performance, but contrary to the neural net models they do not benefit much from blending."
   ]
  },
  {
   "cell_type": "markdown",
   "metadata": {},
   "source": [
    "## More models into the mix\n",
    "\n",
    "Let's throw in some RF and ET models for good measure."
   ]
  },
  {
   "cell_type": "code",
   "execution_count": 91,
   "metadata": {
    "collapsed": false
   },
   "outputs": [
    {
     "data": {
      "text/plain": [
       "0.44588335947564389"
      ]
     },
     "execution_count": 91,
     "metadata": {},
     "output_type": "execute_result"
    }
   ],
   "source": [
    "rf = RandomForestClassifier(n_estimators = 400, min_samples_leaf=3, max_features=20, random_state=1)\n",
    "rf.fit(Xtr, ytr)\n",
    "rfpred = pd.DataFrame(rf.predict_proba(Xte),index = yte.index, columns = pred_cols)\n",
    "multiclass_log_loss(yte.values, rfpred.values)"
   ]
  },
  {
   "cell_type": "code",
   "execution_count": 93,
   "metadata": {
    "collapsed": false
   },
   "outputs": [
    {
     "data": {
      "text/plain": [
       "0.43957680347939809"
      ]
     },
     "execution_count": 93,
     "metadata": {},
     "output_type": "execute_result"
    }
   ],
   "source": [
    "et = ExtraTreesClassifier(n_estimators = 400, random_state=1)\n",
    "et.fit(Xtr, ytr)\n",
    "etpred = pd.DataFrame(et.predict_proba(Xte),index = yte.index, columns = pred_cols)\n",
    "multiclass_log_loss(yte.values, etpred.values)"
   ]
  },
  {
   "cell_type": "markdown",
   "metadata": {},
   "source": [
    "## Blending"
   ]
  },
  {
   "cell_type": "markdown",
   "metadata": {},
   "source": [
    "So now we have predictions of 4 models on our holdout set. Let's try blending them to get an idea of what improvement might be gained."
   ]
  },
  {
   "cell_type": "code",
   "execution_count": 94,
   "metadata": {
    "collapsed": true
   },
   "outputs": [],
   "source": [
    "# take average predictions from models of each class\n",
    "nnpred = sum(nnpreds)/len(nnpreds)\n",
    "xgbpred = sum(xgbpreds)/len(xgbpreds)"
   ]
  },
  {
   "cell_type": "markdown",
   "metadata": {},
   "source": [
    "Let's try giving each model equal weights:"
   ]
  },
  {
   "cell_type": "code",
   "execution_count": 95,
   "metadata": {
    "collapsed": false
   },
   "outputs": [
    {
     "data": {
      "text/plain": [
       "0.4241682934794524"
      ]
     },
     "execution_count": 95,
     "metadata": {},
     "output_type": "execute_result"
    }
   ],
   "source": [
    "blend1 = 0.25*(nnpred+xgbpred+rfpred+etpred)\n",
    "multiclass_log_loss(yte.values, blend1.values)"
   ]
  },
  {
   "cell_type": "markdown",
   "metadata": {},
   "source": [
    "Not bad, we went from 0.439 as the best score to 0.424 by combining predictions from all models.\n",
    "\n",
    "Still, it seems like we could adjust the blending coefficients to push the score further down. Blending coefficients should be nonnegative and sum to one. I didn't know how to do such constrained optimisation. But then I realized we can turn it into an unconstrained optimisation by applying the softmax function. Here is the function I used for creating blending weights:"
   ]
  },
  {
   "cell_type": "code",
   "execution_count": 103,
   "metadata": {
    "collapsed": true
   },
   "outputs": [],
   "source": [
    "def optimize_weights(preds, y):\n",
    "    def mlogloss(x):\n",
    "        weights = np.exp(x)/np.sum(np.exp(x))\n",
    "        pred = sum([p*w for (p,w) in zip(preds,weights)])\n",
    "        return multiclass_log_loss(y.values, pred.values)\n",
    "    res = minimize(mlogloss, np.zeros(len(preds)))\n",
    "    w = np.exp(res.x)/np.sum(np.exp(res.x))\n",
    "    return w"
   ]
  },
  {
   "cell_type": "markdown",
   "metadata": {},
   "source": [
    "Let's apply it to our models' predictions and see what we get:"
   ]
  },
  {
   "cell_type": "code",
   "execution_count": 104,
   "metadata": {
    "collapsed": false
   },
   "outputs": [],
   "source": [
    "preds = [nnpred, xgbpred, rfpred, etpred]\n",
    "models = ['nn','xgb','rf','et']\n",
    "weights = optimize_weights(preds,yte)"
   ]
  },
  {
   "cell_type": "code",
   "execution_count": 108,
   "metadata": {
    "collapsed": false
   },
   "outputs": [
    {
     "data": {
      "image/png": "[encoded data removed]",
      "text/plain": [
       "<matplotlib.figure.Figure at 0x7fcadad96b00>"
      ]
     },
     "metadata": {},
     "output_type": "display_data"
    }
   ],
   "source": [
    "plt.bar(np.arange(len(weights)),weights, alpha = 0.7)\n",
    "plt.xticks(np.arange(len(weights)) + 0.4, models);"
   ]
  },
  {
   "cell_type": "markdown",
   "metadata": {},
   "source": [
    "It's interesting how NN models, despite having the highest loss, receive a high weight. I think this is probably because they are of a different class than the other models which are all tree-based.\n",
    "\n",
    "What is our score now?"
   ]
  },
  {
   "cell_type": "code",
   "execution_count": 109,
   "metadata": {
    "collapsed": false
   },
   "outputs": [
    {
     "data": {
      "text/plain": [
       "0.42193252815598697"
      ]
     },
     "execution_count": 109,
     "metadata": {},
     "output_type": "execute_result"
    }
   ],
   "source": [
    "blend2 = sum([p*w for (p,w) in zip(preds,weights)])\n",
    "multiclass_log_loss(yte.values, blend2.values)"
   ]
  },
  {
   "cell_type": "markdown",
   "metadata": {},
   "source": [
    "By adjusting the weights we've been able to push mlogloss a bit further down, to 0.422.\n",
    "\n",
    "Here are the weights I got from doing the same procedure on out-of-fold predictions from 6 models I made for this competition:\n",
    "\n",
    "![](https://www.dropbox.com/s/52kywr50dwsim2b/p8.png?dl=1)\n",
    "\n",
    "Here random forest and extra trees models received very low weights and were effectively rejected in favour of their refined counterparts. Interesting that the proportions of nn/tree-based models are the same in two plots.\n",
    "\n",
    "Try this method for your own predictions, and let me know if you can improve it =)."
   ]
  },
  {
   "cell_type": "markdown",
   "metadata": {},
   "source": [
    "## Appendix: additional NN configurations"
   ]
  },
  {
   "cell_type": "code",
   "execution_count": null,
   "metadata": {
    "collapsed": true
   },
   "outputs": [],
   "source": [
    "modelparams = {'dense_1_size': 126,\n",
    "  'dense_2_size': 342,\n",
    "  'dropout_1': 0.08099249518461987,\n",
    "  'dropout_2': 0.11546789274740131,\n",
    "  'events_model_l1': 136.5688610112883,\n",
    "  'events_model_l2': 0.03521377522651845,\n",
    "  'events_model_size': 33,\n",
    "  'location_embedding_l1': 0.05243945780052779,\n",
    "  'location_embedding_l2': 0.5230097653586395,\n",
    "  'location_embedding_size': 994,\n",
    "  'log_model_l1': 0.0025618283149878083,\n",
    "  'log_model_l2': 0.027193056421825925,\n",
    "  'log_model_size': 265,\n",
    "  'resource_model_l1': 0.06763728965163812,\n",
    "  'resource_model_l2': 0.09873407984707304,\n",
    "  'resource_model_size': 6,\n",
    "  'rest_model_l1': 0.006660825957147594,\n",
    "  'rest_model_l2': 0.09454134206291084,\n",
    "  'rest_model_size': 16,\n",
    "  'severity_embedding_l1': 0.00867032801435,\n",
    "  'severity_embedding_l2': 10.0636380379717,\n",
    "  'severity_embedding_size': 10}"
   ]
  },
  {
   "cell_type": "code",
   "execution_count": null,
   "metadata": {
    "collapsed": true
   },
   "outputs": [],
   "source": [
    "modelparams = {'dense_1_size': 80,\n",
    "  'dense_2_size': 346,\n",
    "  'dropout_1': 0.0858925099124953,\n",
    "  'dropout_2': 0.2369274970643942,\n",
    "  'events_model_l1': 2754.4532286151884,\n",
    "  'events_model_l2': 0.02504414214050731,\n",
    "  'events_model_size': 23,\n",
    "  'location_embedding_l1': 0.007541470559434677,\n",
    "  'location_embedding_l2': 0.012919951657518426,\n",
    "  'location_embedding_size': 922,\n",
    "  'log_model_l1': 0.0011872122210382751,\n",
    "  'log_model_l2': 0.02351141159862712,\n",
    "  'log_model_size': 352,\n",
    "  'resource_model_l1': 0.38902261977393804,\n",
    "  'resource_model_l2': 0.05837733528316206,\n",
    "  'resource_model_size': 7,\n",
    "  'rest_model_l1': 0.0045845583781958,\n",
    "  'rest_model_l2': 0.15940253898596193,\n",
    "  'rest_model_size': 30,\n",
    "  'severity_embedding_l1': 0.0018053162894629338,\n",
    "  'severity_embedding_l2': 0.0048684863282926925,\n",
    "  'severity_embedding_size': 9}"
   ]
  }
 ],
 "metadata": {
  "kernelspec": {
   "display_name": "Python 3",
   "language": "python",
   "name": "python3"
  },
  "language_info": {
   "codemirror_mode": {
    "name": "ipython",
    "version": 3
   },
   "file_extension": ".py",
   "mimetype": "text/x-python",
   "name": "python",
   "nbconvert_exporter": "python",
   "pygments_lexer": "ipython3",
   "version": "3.5.1"
  }
 },
 "nbformat": 4,
 "nbformat_minor": 0
}

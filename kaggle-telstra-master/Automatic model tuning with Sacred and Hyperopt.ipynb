{
 "cells": [
  {
   "cell_type": "code",
   "execution_count": 1,
   "metadata": {
    "collapsed": false,
    "scrolled": true
   },
   "outputs": [
    {
     "name": "stderr",
     "output_type": "stream",
     "text": [
      "/home/daria/anaconda3/lib/python3.5/site-packages/matplotlib/__init__.py:872: UserWarning: axes.color_cycle is deprecated and replaced with axes.prop_cycle; please use the latter.\n",
      "  warnings.warn(self.msg_depr % (key, alt_key))\n"
     ]
    }
   ],
   "source": [
    "%matplotlib inline\n",
    "import pandas as pd\n",
    "import numpy as np\n",
    "from matplotlib import pyplot as plt\n",
    "from hyperopt import fmin, tpe, hp\n",
    "from pymongo import MongoClient\n",
    "import seaborn as sns\n",
    "from src.experiments.RFexp import ex as rfex\n",
    "from src.experiments.XGBexp import ex as xgbex"
   ]
  },
  {
   "cell_type": "markdown",
   "metadata": {},
   "source": [
    "This notebook shows how to use Sacred and Hyperopt to do automatic hyperparameter selection. \n",
    "\n",
    "[Sacred](https://github.com/IDSIA/sacred) is a tool for organizing, running and logging machine learning experiments. It comes with a mongo observer that saves the run's configuration and results to a mongo database. I found it very useful especially in conjunction with [Hyperopt](https://github.com/hyperopt/hyperopt) which is a Python library for hyperparameter optimization. \n",
    "\n",
    "See [the docs](http://sacred.readthedocs.org/en/latest/quickstart.html) on how to install and start using Sacred. \n",
    "\n",
    "I'll show an example using an experiment with a random forest algorithm for predicting fault severities for the \"Telstra Network Discruptions\" Kaggle competition. The code for this experiment is in [src/experiments/RFexp.py](https://github.com/gereleth/kaggle-telstra/blob/master/src/experiments/RFexp.py). There are other files in the [experiments](https://github.com/gereleth/kaggle-telstra/tree/master/src/experiments) folder with other algorithms I tried. \n",
    "\n",
    "The experiment's function decorated with `@ex.automain` loads the data, builds features, performs a stratified k-fold cross-validation and returns multiclass log loss as the result. Let's see how it works by running an experiment."
   ]
  },
  {
   "cell_type": "markdown",
   "metadata": {},
   "source": [
    "## Run an experiment"
   ]
  },
  {
   "cell_type": "code",
   "execution_count": 2,
   "metadata": {
    "collapsed": false
   },
   "outputs": [
    {
     "name": "stderr",
     "output_type": "stream",
     "text": [
      "INFO - random_forest - Running command 'rf'\n",
      "INFO - random_forest - Started\n",
      "INFO - random_forest - Result: 0.4609685816608816\n",
      "INFO - random_forest - Completed after 0:00:32\n"
     ]
    }
   ],
   "source": [
    "run = rfex.run()"
   ]
  },
  {
   "cell_type": "markdown",
   "metadata": {},
   "source": [
    "See the configuration used for this run:"
   ]
  },
  {
   "cell_type": "code",
   "execution_count": 3,
   "metadata": {
    "collapsed": false
   },
   "outputs": [
    {
     "data": {
      "text/plain": [
       "{'aggregateparams': {'loc_agg_prior_weight': 3.0},\n",
       " 'clfparams': {'bootstrap': True,\n",
       "  'class_weight': None,\n",
       "  'criterion': 'gini',\n",
       "  'max_depth': None,\n",
       "  'max_features': 'auto',\n",
       "  'max_leaf_nodes': None,\n",
       "  'min_samples_leaf': 4,\n",
       "  'min_samples_split': 2,\n",
       "  'min_weight_fraction_leaf': 0.0,\n",
       "  'n_estimators': 200,\n",
       "  'n_jobs': -1,\n",
       "  'oob_score': False,\n",
       "  'verbose': 0,\n",
       "  'warm_start': False},\n",
       " 'exclude': [],\n",
       " 'featureparams': {'location_min_count': 0,\n",
       "  'n_common_events': 20,\n",
       "  'n_common_log_features': 40,\n",
       "  'n_common_resources': 5,\n",
       "  'n_label_encoded_events': 0,\n",
       "  'n_label_encoded_log_features': 4},\n",
       " 'include': [],\n",
       " 'n_folds': 10,\n",
       " 'save_oob_predictions': False,\n",
       " 'save_test_predictions': False,\n",
       " 'seed': 884068221,\n",
       " 'series': 'RF',\n",
       " 'skip_cross_validation': False}"
      ]
     },
     "execution_count": 3,
     "metadata": {},
     "output_type": "execute_result"
    }
   ],
   "source": [
    "run.config"
   ]
  },
  {
   "cell_type": "markdown",
   "metadata": {},
   "source": [
    "See the run's result:"
   ]
  },
  {
   "cell_type": "code",
   "execution_count": 4,
   "metadata": {
    "collapsed": false
   },
   "outputs": [
    {
     "data": {
      "text/plain": [
       "0.46096858166088162"
      ]
     },
     "execution_count": 4,
     "metadata": {},
     "output_type": "execute_result"
    }
   ],
   "source": [
    "run.result"
   ]
  },
  {
   "cell_type": "markdown",
   "metadata": {},
   "source": [
    "Additional information can be saved in the `run.info` dictionary. For example, in my RF experiment I save feature names, feature importances, values of loss and train loss from each fold."
   ]
  },
  {
   "cell_type": "code",
   "execution_count": 5,
   "metadata": {
    "collapsed": false
   },
   "outputs": [
    {
     "data": {
      "text/plain": [
       "dict_keys(['loss', 'features', 'trainloss', 'feature_importances'])"
      ]
     },
     "execution_count": 5,
     "metadata": {},
     "output_type": "execute_result"
    }
   ],
   "source": [
    "run.info.keys()"
   ]
  },
  {
   "cell_type": "markdown",
   "metadata": {},
   "source": [
    "Let's plot some feature importances"
   ]
  },
  {
   "cell_type": "code",
   "execution_count": 7,
   "metadata": {
    "collapsed": false
   },
   "outputs": [
    {
     "data": {
      "text/plain": [
       "<matplotlib.axes._subplots.AxesSubplot at 0x7fa9dc95d128>"
      ]
     },
     "execution_count": 7,
     "metadata": {},
     "output_type": "execute_result"
    },
    {
     "data": {
      "image/png": "[encoded data removed]",
      "text/plain": [
       "<matplotlib.figure.Figure at 0x7fa9b78c0080>"
      ]
     },
     "metadata": {},
     "output_type": "display_data"
    }
   ],
   "source": [
    "imp = pd.Series(run.info['feature_importances'],index=run.info['features']).sort_values()\n",
    "fig, ax = plt.subplots(figsize=(8,8))\n",
    "imp.iloc[-30:].plot(kind='barh',ax=ax, alpha = 0.7)"
   ]
  },
  {
   "cell_type": "markdown",
   "metadata": {},
   "source": [
    "## Run an experiment with another configuration\n",
    "\n",
    "Running an experiment with new configuration is done by using `config_updates` keyword argument. For example, let's set `max_features` random forest parameter to 1. Note how Sacred warns us that it was changed from string ('auto') to an int."
   ]
  },
  {
   "cell_type": "code",
   "execution_count": 34,
   "metadata": {
    "collapsed": false
   },
   "outputs": [
    {
     "name": "stderr",
     "output_type": "stream",
     "text": [
      "WARNING - root - Changed type of config entry \"clfparams.max_features\" from str to int\n",
      "INFO - random_forest - Running command 'rf'\n",
      "INFO - random_forest - Started\n",
      "INFO - random_forest - Result: 0.5732386736378875\n",
      "INFO - random_forest - Completed after 0:00:29\n"
     ]
    }
   ],
   "source": [
    "run = rfex.run(config_updates = {\"clfparams.max_features\":1})"
   ]
  },
  {
   "cell_type": "markdown",
   "metadata": {},
   "source": [
    "We can change multiple things at once. For example, let's not take any one-hot encoded events columns, change `max_features` to 2 and exclude the location feature. This is just to show how config updates work."
   ]
  },
  {
   "cell_type": "code",
   "execution_count": 35,
   "metadata": {
    "collapsed": false
   },
   "outputs": [
    {
     "name": "stderr",
     "output_type": "stream",
     "text": [
      "WARNING - root - Changed type of config entry \"clfparams.max_features\" from str to int\n",
      "INFO - random_forest - Running command 'rf'\n",
      "INFO - random_forest - Started\n",
      "INFO - random_forest - Result: 0.5167924399116657\n",
      "INFO - random_forest - Completed after 0:00:29\n"
     ]
    }
   ],
   "source": [
    "run = rfex.run(config_updates = {\"clfparams.max_features\":2,\n",
    "                                 \"featureparams.n_common_events\":0,\n",
    "                                 \"exclude\":['location']})"
   ]
  },
  {
   "cell_type": "markdown",
   "metadata": {},
   "source": [
    "Rerunning an experiment with the same config should give exactly the same result. Let's check if it does."
   ]
  },
  {
   "cell_type": "code",
   "execution_count": 36,
   "metadata": {
    "collapsed": false
   },
   "outputs": [
    {
     "name": "stderr",
     "output_type": "stream",
     "text": [
      "WARNING - root - Changed type of config entry \"clfparams.max_features\" from str to int\n",
      "INFO - random_forest - Running command 'rf'\n",
      "INFO - random_forest - Started\n",
      "INFO - random_forest - Result: 0.5167924399116657\n",
      "INFO - random_forest - Completed after 0:00:29\n"
     ]
    }
   ],
   "source": [
    "rerun = rfex.run(config_updates = run.config)"
   ]
  },
  {
   "cell_type": "markdown",
   "metadata": {},
   "source": [
    "Sacred takes care of setting the random seed (of `random` and `numpy.random`) and saves the seed in the configuration. So you can always reproduce any experiment you ran."
   ]
  },
  {
   "cell_type": "markdown",
   "metadata": {},
   "source": [
    "## Tune the model with hyperopt\n",
    "\n",
    "Let's try tuning the random forest model using `hyperopt` library. Let's say that we want to select optimal values for `max_features` and `min_samples_leaf` parameters.\n",
    "\n",
    "First we'll need to define a search space for the parameters. I set `max_features` to look over integers from 1 to 20 and `min_samples_leaf` to integers from 1 to 10. For details on defining search spaces see [hyperopt docs](https://github.com/hyperopt/hyperopt/wiki/FMin)."
   ]
  },
  {
   "cell_type": "code",
   "execution_count": 38,
   "metadata": {
    "collapsed": true
   },
   "outputs": [],
   "source": [
    "space = {'max_features':hp.quniform('max_features',1,20,1),\n",
    "         'min_samples_leaf':hp.quniform('min_samples_leaf',1,10,1)}"
   ]
  },
  {
   "cell_type": "markdown",
   "metadata": {},
   "source": [
    "Next we define the optimisation objective. Inside the function we create a dict of configuration updates, run the experiment and report the result."
   ]
  },
  {
   "cell_type": "code",
   "execution_count": 39,
   "metadata": {
    "collapsed": true
   },
   "outputs": [],
   "source": [
    "def rf_objective(params):\n",
    "    config={'series':\"RF01\"}\n",
    "    for (key,value) in params.items():\n",
    "        config[\"clfparams.{}\".format(key)] = int(value)\n",
    "    run = rfex.run(config_updates=config)\n",
    "    return run.result"
   ]
  },
  {
   "cell_type": "markdown",
   "metadata": {},
   "source": [
    "Now we can run the optimisation using `fmin` from hyperopt. `max_evals` number controls how many points to try in the hyperparameter space.\n",
    "\n",
    "Time to launch the optimisation. Then you can have some tea or go for a walk or get a good night's sleep while the automatic tuning is working on improving your model."
   ]
  },
  {
   "cell_type": "code",
   "execution_count": 40,
   "metadata": {
    "collapsed": false,
    "scrolled": true
   },
   "outputs": [
    {
     "name": "stderr",
     "output_type": "stream",
     "text": [
      "INFO - hyperopt.tpe - tpe_transform took 0.001224 seconds\n",
      "INFO - hyperopt.tpe - TPE using 0 trials\n",
      "WARNING - root - Changed type of config entry \"clfparams.max_features\" from str to int\n",
      "INFO - random_forest - Running command 'rf'\n",
      "INFO - random_forest - Started\n",
      "INFO - random_forest - Result: 0.4618138426460098\n",
      "INFO - random_forest - Completed after 0:00:34\n",
      "INFO - hyperopt.tpe - tpe_transform took 0.001186 seconds\n",
      "INFO - hyperopt.tpe - TPE using 1/1 trials with best loss 0.461814\n",
      "WARNING - root - Changed type of config entry \"clfparams.max_features\" from str to int\n",
      "INFO - random_forest - Running command 'rf'\n",
      "INFO - random_forest - Started\n",
      "INFO - random_forest - Result: 0.46043073364538084\n",
      "INFO - random_forest - Completed after 0:00:35\n",
      "INFO - hyperopt.tpe - tpe_transform took 0.000895 seconds\n",
      "INFO - hyperopt.tpe - TPE using 2/2 trials with best loss 0.460431\n",
      "WARNING - root - Changed type of config entry \"clfparams.max_features\" from str to int\n",
      "INFO - random_forest - Running command 'rf'\n",
      "INFO - random_forest - Started\n",
      "INFO - random_forest - Result: 0.45370676212515065\n",
      "INFO - random_forest - Completed after 0:00:36\n",
      "INFO - hyperopt.tpe - tpe_transform took 0.000897 seconds\n",
      "INFO - hyperopt.tpe - TPE using 3/3 trials with best loss 0.453707\n",
      "WARNING - root - Changed type of config entry \"clfparams.max_features\" from str to int\n",
      "INFO - random_forest - Running command 'rf'\n",
      "INFO - random_forest - Started\n",
      "INFO - random_forest - Result: 0.45374246116644495\n",
      "INFO - random_forest - Completed after 0:00:36\n",
      "INFO - hyperopt.tpe - tpe_transform took 0.000932 seconds\n",
      "INFO - hyperopt.tpe - TPE using 4/4 trials with best loss 0.453707\n",
      "WARNING - root - Changed type of config entry \"clfparams.max_features\" from str to int\n",
      "INFO - random_forest - Running command 'rf'\n",
      "INFO - random_forest - Started\n",
      "INFO - random_forest - Result: 0.4862154732286012\n",
      "INFO - random_forest - Completed after 0:00:30\n",
      "INFO - hyperopt.tpe - tpe_transform took 0.000887 seconds\n",
      "INFO - hyperopt.tpe - TPE using 5/5 trials with best loss 0.453707\n",
      "WARNING - root - Changed type of config entry \"clfparams.max_features\" from str to int\n",
      "INFO - random_forest - Running command 'rf'\n",
      "INFO - random_forest - Started\n",
      "INFO - random_forest - Result: 0.46846196348265157\n",
      "INFO - random_forest - Completed after 0:00:33\n",
      "INFO - hyperopt.tpe - tpe_transform took 0.000911 seconds\n",
      "INFO - hyperopt.tpe - TPE using 6/6 trials with best loss 0.453707\n",
      "WARNING - root - Changed type of config entry \"clfparams.max_features\" from str to int\n",
      "INFO - random_forest - Running command 'rf'\n",
      "INFO - random_forest - Started\n",
      "INFO - random_forest - Result: 0.4861795602412289\n",
      "INFO - random_forest - Completed after 0:00:30\n",
      "INFO - hyperopt.tpe - tpe_transform took 0.000878 seconds\n",
      "INFO - hyperopt.tpe - TPE using 7/7 trials with best loss 0.453707\n",
      "WARNING - root - Changed type of config entry \"clfparams.max_features\" from str to int\n",
      "INFO - random_forest - Running command 'rf'\n",
      "INFO - random_forest - Started\n",
      "INFO - random_forest - Result: 0.4616424931893081\n",
      "INFO - random_forest - Completed after 0:00:37\n",
      "INFO - hyperopt.tpe - tpe_transform took 0.000893 seconds\n",
      "INFO - hyperopt.tpe - TPE using 8/8 trials with best loss 0.453707\n",
      "WARNING - root - Changed type of config entry \"clfparams.max_features\" from str to int\n",
      "INFO - random_forest - Running command 'rf'\n",
      "INFO - random_forest - Started\n",
      "INFO - random_forest - Result: 0.5010408869927089\n",
      "INFO - random_forest - Completed after 0:00:30\n",
      "INFO - hyperopt.tpe - tpe_transform took 0.001518 seconds\n",
      "INFO - hyperopt.tpe - TPE using 9/9 trials with best loss 0.453707\n",
      "WARNING - root - Changed type of config entry \"clfparams.max_features\" from str to int\n",
      "INFO - random_forest - Running command 'rf'\n",
      "INFO - random_forest - Started\n",
      "INFO - random_forest - Result: 0.4574489516292252\n",
      "INFO - random_forest - Completed after 0:00:34\n",
      "INFO - hyperopt.tpe - tpe_transform took 0.000891 seconds\n",
      "INFO - hyperopt.tpe - TPE using 10/10 trials with best loss 0.453707\n",
      "WARNING - root - Changed type of config entry \"clfparams.max_features\" from str to int\n",
      "INFO - random_forest - Running command 'rf'\n",
      "INFO - random_forest - Started\n",
      "INFO - random_forest - Result: 0.45589883060187214\n",
      "INFO - random_forest - Completed after 0:00:35\n",
      "INFO - hyperopt.tpe - tpe_transform took 0.000892 seconds\n",
      "INFO - hyperopt.tpe - TPE using 11/11 trials with best loss 0.453707\n",
      "WARNING - root - Changed type of config entry \"clfparams.max_features\" from str to int\n",
      "INFO - random_forest - Running command 'rf'\n",
      "INFO - random_forest - Started\n",
      "INFO - random_forest - Result: 0.46601629396261207\n",
      "INFO - random_forest - Completed after 0:00:31\n",
      "INFO - hyperopt.tpe - tpe_transform took 0.000898 seconds\n",
      "INFO - hyperopt.tpe - TPE using 12/12 trials with best loss 0.453707\n",
      "WARNING - root - Changed type of config entry \"clfparams.max_features\" from str to int\n",
      "INFO - random_forest - Running command 'rf'\n",
      "INFO - random_forest - Started\n",
      "INFO - random_forest - Result: 0.4907963607732771\n",
      "INFO - random_forest - Completed after 0:00:30\n",
      "INFO - hyperopt.tpe - tpe_transform took 0.001724 seconds\n",
      "INFO - hyperopt.tpe - TPE using 13/13 trials with best loss 0.453707\n",
      "WARNING - root - Changed type of config entry \"clfparams.max_features\" from str to int\n",
      "INFO - random_forest - Running command 'rf'\n",
      "INFO - random_forest - Started\n",
      "INFO - random_forest - Result: 0.46362812152240046\n",
      "INFO - random_forest - Completed after 0:00:33\n",
      "INFO - hyperopt.tpe - tpe_transform took 0.000901 seconds\n",
      "INFO - hyperopt.tpe - TPE using 14/14 trials with best loss 0.453707\n",
      "WARNING - root - Changed type of config entry \"clfparams.max_features\" from str to int\n",
      "INFO - random_forest - Running command 'rf'\n",
      "INFO - random_forest - Started\n",
      "INFO - random_forest - Result: 0.45927629360960187\n",
      "INFO - random_forest - Completed after 0:00:36\n",
      "INFO - hyperopt.tpe - tpe_transform took 0.000902 seconds\n",
      "INFO - hyperopt.tpe - TPE using 15/15 trials with best loss 0.453707\n",
      "WARNING - root - Changed type of config entry \"clfparams.max_features\" from str to int\n",
      "INFO - random_forest - Running command 'rf'\n",
      "INFO - random_forest - Started\n",
      "INFO - random_forest - Result: 0.45689103254858904\n",
      "INFO - random_forest - Completed after 0:00:33\n",
      "INFO - hyperopt.tpe - tpe_transform took 0.000890 seconds\n",
      "INFO - hyperopt.tpe - TPE using 16/16 trials with best loss 0.453707\n",
      "WARNING - root - Changed type of config entry \"clfparams.max_features\" from str to int\n",
      "INFO - random_forest - Running command 'rf'\n",
      "INFO - random_forest - Started\n",
      "INFO - random_forest - Result: 0.4689168983185832\n",
      "INFO - random_forest - Completed after 0:00:31\n",
      "INFO - hyperopt.tpe - tpe_transform took 0.000890 seconds\n",
      "INFO - hyperopt.tpe - TPE using 17/17 trials with best loss 0.453707\n",
      "WARNING - root - Changed type of config entry \"clfparams.max_features\" from str to int\n",
      "INFO - random_forest - Running command 'rf'\n",
      "INFO - random_forest - Started\n",
      "INFO - random_forest - Result: 0.46475813495092005\n",
      "INFO - random_forest - Completed after 0:00:34\n",
      "INFO - hyperopt.tpe - tpe_transform took 0.000983 seconds\n",
      "INFO - hyperopt.tpe - TPE using 18/18 trials with best loss 0.453707\n",
      "WARNING - root - Changed type of config entry \"clfparams.max_features\" from str to int\n",
      "INFO - random_forest - Running command 'rf'\n",
      "INFO - random_forest - Started\n",
      "INFO - random_forest - Result: 0.46043918462366\n",
      "INFO - random_forest - Completed after 0:00:35\n",
      "INFO - hyperopt.tpe - tpe_transform took 0.001633 seconds\n",
      "INFO - hyperopt.tpe - TPE using 19/19 trials with best loss 0.453707\n",
      "WARNING - root - Changed type of config entry \"clfparams.max_features\" from str to int\n",
      "INFO - random_forest - Running command 'rf'\n",
      "INFO - random_forest - Started\n",
      "INFO - random_forest - Result: 0.4563879220410712\n",
      "INFO - random_forest - Completed after 0:00:34\n"
     ]
    },
    {
     "name": "stdout",
     "output_type": "stream",
     "text": [
      "{'max_features': 19.0, 'min_samples_leaf': 3.0}\n"
     ]
    }
   ],
   "source": [
    "best = fmin(fn=rf_objective,\n",
    "    space=space,\n",
    "    algo=tpe.suggest,\n",
    "    max_evals=20)\n",
    "print(best)"
   ]
  },
  {
   "cell_type": "markdown",
   "metadata": {},
   "source": [
    "## Review optimisation results\n",
    "\n",
    "Notice how we didn't have to bother about saving any results or configurations. Sacred takes care of that for us. Let's look at the database entries for this optimisation run."
   ]
  },
  {
   "cell_type": "code",
   "execution_count": 44,
   "metadata": {
    "collapsed": false
   },
   "outputs": [],
   "source": [
    "client = MongoClient()\n",
    "db = client.telstra\n",
    "runs = db.default.runs"
   ]
  },
  {
   "cell_type": "markdown",
   "metadata": {},
   "source": [
    "How many runs were successfully completed?"
   ]
  },
  {
   "cell_type": "code",
   "execution_count": 45,
   "metadata": {
    "collapsed": false,
    "scrolled": true
   },
   "outputs": [
    {
     "data": {
      "text/plain": [
       "20"
      ]
     },
     "execution_count": 45,
     "metadata": {},
     "output_type": "execute_result"
    }
   ],
   "source": [
    "runs.find({\"config.series\":\"RF01\",\"status\":\"COMPLETED\"}).count()"
   ]
  },
  {
   "cell_type": "markdown",
   "metadata": {},
   "source": [
    "Now let's collect configurations and results and put them in a dataframe."
   ]
  },
  {
   "cell_type": "code",
   "execution_count": 57,
   "metadata": {
    "collapsed": false
   },
   "outputs": [
    {
     "data": {
      "text/html": [
       "<div>\n",
       "<table border=\"1\" class=\"dataframe\">\n",
       "  <thead>\n",
       "    <tr style=\"text-align: right;\">\n",
       "      <th></th>\n",
       "      <th>max_features</th>\n",
       "      <th>min_samples_leaf</th>\n",
       "      <th>result</th>\n",
       "    </tr>\n",
       "  </thead>\n",
       "  <tbody>\n",
       "    <tr>\n",
       "      <th>0</th>\n",
       "      <td>19</td>\n",
       "      <td>3</td>\n",
       "      <td>0.453707</td>\n",
       "    </tr>\n",
       "    <tr>\n",
       "      <th>1</th>\n",
       "      <td>19</td>\n",
       "      <td>3</td>\n",
       "      <td>0.453742</td>\n",
       "    </tr>\n",
       "    <tr>\n",
       "      <th>2</th>\n",
       "      <td>16</td>\n",
       "      <td>3</td>\n",
       "      <td>0.455899</td>\n",
       "    </tr>\n",
       "    <tr>\n",
       "      <th>3</th>\n",
       "      <td>13</td>\n",
       "      <td>2</td>\n",
       "      <td>0.456388</td>\n",
       "    </tr>\n",
       "    <tr>\n",
       "      <th>4</th>\n",
       "      <td>8</td>\n",
       "      <td>2</td>\n",
       "      <td>0.456891</td>\n",
       "    </tr>\n",
       "  </tbody>\n",
       "</table>\n",
       "</div>"
      ],
      "text/plain": [
       "   max_features  min_samples_leaf    result\n",
       "0            19                 3  0.453707\n",
       "1            19                 3  0.453742\n",
       "2            16                 3  0.455899\n",
       "3            13                 2  0.456388\n",
       "4             8                 2  0.456891"
      ]
     },
     "execution_count": 57,
     "metadata": {},
     "output_type": "execute_result"
    }
   ],
   "source": [
    "def find():\n",
    "    return runs.find({\"config.series\":\"RF01\",\"status\":\"COMPLETED\"},sort = [('result',1)])\n",
    "df = pd.DataFrame(0, index = np.arange(find().count()), columns = [])\n",
    "for name in space.keys():\n",
    "    df[name] = [r['config']['clfparams'][name] for r in find()]\n",
    "df['result'] = [r['result'] for r in find()]\n",
    "df = df.sort_values(by='result')\n",
    "df.head()"
   ]
  },
  {
   "cell_type": "markdown",
   "metadata": {},
   "source": [
    "It looks like the best value for `min_samples_leaf` is 3, and best `max_features` is 19. But other settings also come close to the best result. \n",
    "\n",
    "We can visualize results as a seaborn pairplot."
   ]
  },
  {
   "cell_type": "code",
   "execution_count": 56,
   "metadata": {
    "collapsed": false
   },
   "outputs": [
    {
     "name": "stderr",
     "output_type": "stream",
     "text": [
      "/home/daria/anaconda3/lib/python3.5/site-packages/matplotlib/__init__.py:892: UserWarning: axes.color_cycle is deprecated and replaced with axes.prop_cycle; please use the latter.\n",
      "  warnings.warn(self.msg_depr % (key, alt_key))\n"
     ]
    },
    {
     "data": {
      "text/plain": [
       "<seaborn.axisgrid.PairGrid at 0x7f0f9aec45f8>"
      ]
     },
     "execution_count": 56,
     "metadata": {},
     "output_type": "execute_result"
    },
    {
     "data": {
      "image/png": "[encoded data removed]",
      "text/plain": [
       "<matplotlib.figure.Figure at 0x7f0f9aec4208>"
      ]
     },
     "metadata": {},
     "output_type": "display_data"
    }
   ],
   "source": [
    "sns.pairplot(df,size=3.5)"
   ]
  },
  {
   "cell_type": "markdown",
   "metadata": {},
   "source": [
    "It looks like more `max_features` is better. Maybe we could run another series of experiments this time allowing for `max_features` > 20. Or we can look at the results and select models for ensembling by finding those with similarly good results but sufficiently different settings. The decisions are up to you as a data scientist =)."
   ]
  },
  {
   "cell_type": "markdown",
   "metadata": {},
   "source": [
    "## Tune an xgboost model\n",
    "\n",
    "Here's an example of code I used for tuning xgboost for this competition."
   ]
  },
  {
   "cell_type": "code",
   "execution_count": null,
   "metadata": {
    "collapsed": true
   },
   "outputs": [],
   "source": [
    "space = {'eta':hp.lognormal('eta',np.log(0.05),-np.log(0.1)),\n",
    "         'max_depth':hp.quniform('max_depth',2,30,1),\n",
    "         'subsample':hp.uniform('subsample',0.05,1.0),\n",
    "         'colsample_bytree':hp.uniform('colsample_bytree',0.05,1.0),\n",
    "         'lambda':hp.lognormal('lambda',np.log(10.),np.log(100)),\n",
    "         'max_delta_step':hp.choice('max_delta_step', [0,1]),\n",
    "         'alpha':hp.lognormal('alpha',np.log(1.),np.log(100.))}"
   ]
  },
  {
   "cell_type": "code",
   "execution_count": null,
   "metadata": {
    "collapsed": true
   },
   "outputs": [],
   "source": [
    "def xgboost_objective(params):\n",
    "    config={'series':\"XGB37\"}\n",
    "    for (key,value) in params.items():\n",
    "        config[\"clfparams.{}\".format(key)] = value\n",
    "    run = xgbex.run(config_updates=config)\n",
    "    return run.result"
   ]
  },
  {
   "cell_type": "code",
   "execution_count": null,
   "metadata": {
    "collapsed": true
   },
   "outputs": [],
   "source": [
    "best = fmin(fn=xgboost_objective,\n",
    "    space=space,\n",
    "    algo=tpe.suggest,\n",
    "    max_evals=200)"
   ]
  },
  {
   "cell_type": "markdown",
   "metadata": {},
   "source": [
    "## Some notes on the tuning\n",
    "\n",
    "* I sometimes did tuning in two stages: first a faster screening-type search over a larger set of configurations but using only a single train-validation split instead of full cross-validation. Then rerun full experiments with the best models found in stage one.\n",
    "* It is possible to tune not only the model, but also the full pipeline including missing data handling, feature engineering and so on. We may have to make decisions like \"how many features of this type to include\", \"fill NAs for this variable with -1, mean or median\" etc. If we encode them as experiment configurations we can have hyperopt choose the best options as well."
   ]
  }
 ],
 "metadata": {
  "kernelspec": {
   "display_name": "Python 3",
   "language": "python",
   "name": "python3"
  },
  "language_info": {
   "codemirror_mode": {
    "name": "ipython",
    "version": 3
   },
   "file_extension": ".py",
   "mimetype": "text/x-python",
   "name": "python",
   "nbconvert_exporter": "python",
   "pygments_lexer": "ipython3",
   "version": "3.5.1"
  }
 },
 "nbformat": 4,
 "nbformat_minor": 0
}
